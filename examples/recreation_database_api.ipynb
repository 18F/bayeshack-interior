{
 "cells": [
  {
   "cell_type": "markdown",
   "metadata": {},
   "source": [
    "# Exploration of the ridb.recreation.gov API\n",
    "\n",
    "Author: Stephan <stephan@bayesimpact.org>\n",
    "\n",
    "The API is pretty well documented on https://usda.github.io/RIDB/ and can be used to obtain information about *Recreation Areas*, *Facilities*, *Campsites*, *Tours*, etc..\n",
    "\n",
    "In order to get an overview of the functionality of this API, I'll use it to plan a trip to the [Zion National Park](https://www.nps.gov/zion/index.htm)."
   ]
  },
  {
   "cell_type": "code",
   "execution_count": 1,
   "metadata": {
    "collapsed": true
   },
   "outputs": [],
   "source": [
    "import folium\n",
    "from IPython.display import Image, HTML, display\n",
    "import requests\n",
    "from pprint import pprint\n",
    "\n",
    "# Register for API key here: https://ridb.recreation.gov/?action=register\n",
    "API_KEY = '6A7F1BDCC2E94496BAAAEBCDC8B17CE3'\n",
    "\n",
    "BASE_URL = 'https://ridb.recreation.gov/api/v1/'"
   ]
  },
  {
   "cell_type": "markdown",
   "metadata": {},
   "source": [
    "Reading the documentation I learned that some endpoints have a `query` parameter that can be used to filter the results. This parameter behaves differently on each endpoint. On the `recareas` endpoint it\n",
    "\n",
    "> Searches on recreation area name, description, keywords, and stay limit."
   ]
  },
  {
   "cell_type": "code",
   "execution_count": 2,
   "metadata": {
    "collapsed": true
   },
   "outputs": [],
   "source": [
    "def get_as_json(url, params={'apikey': API_KEY}):\n",
    "    \"\"\"Helper function to take care of authentication via API key.\"\"\"\n",
    "    res = requests.get(url, params=params)\n",
    "    return res.json()['RECDATA']"
   ]
  },
  {
   "cell_type": "code",
   "execution_count": 3,
   "metadata": {
    "collapsed": false
   },
   "outputs": [],
   "source": [
    "url = BASE_URL + 'recareas'\n",
    "params = {'apikey': API_KEY, 'query': 'zion'}\n",
    "zion_areas = get_as_json(url, params=params)"
   ]
  },
  {
   "cell_type": "markdown",
   "metadata": {},
   "source": [
    "Display the names and coordinates of the search results."
   ]
  },
  {
   "cell_type": "code",
   "execution_count": 4,
   "metadata": {
    "collapsed": false
   },
   "outputs": [
    {
     "data": {
      "text/plain": [
       "[(u'Zion National Park',\n",
       "  {u'COORDINATES': [-112.988339067, 37.2020727396], u'TYPE': u'Point'}),\n",
       " (u'Zion Wilderness', None),\n",
       " (u'Beaver Canyon Scenic Byway (U-153)', None),\n",
       " (u'Smithsonian Butte National Back Country Byway', None)]"
      ]
     },
     "execution_count": 4,
     "metadata": {},
     "output_type": "execute_result"
    }
   ],
   "source": [
    "[(area['RecAreaName'], area.get('GEOJSON')) for area in zion_areas]"
   ]
  },
  {
   "cell_type": "markdown",
   "metadata": {},
   "source": [
    "The first one looks like what I'm interested in. It's also the only one that has coordinates."
   ]
  },
  {
   "cell_type": "code",
   "execution_count": 5,
   "metadata": {
    "collapsed": false
   },
   "outputs": [
    {
     "data": {
      "text/plain": [
       "u\"Follow the paths where ancient native people and pioneers walked. Gaze up at massive sandstone cliffs of cream, pink, and red that soar into a brilliant blue sky. Experience wilderness in a narrow slot canyon. Zion's unique array of plants and animals will enchant you as you absorb the rich history of the past and enjoy the excitement of present day adventures.\""
      ]
     },
     "execution_count": 5,
     "metadata": {},
     "output_type": "execute_result"
    }
   ],
   "source": [
    "zion_park = zion_areas[0]\n",
    "zion_park['RecAreaDescription']"
   ]
  },
  {
   "cell_type": "markdown",
   "metadata": {},
   "source": [
    "Oh that sounds beautiful, where exactly is it?"
   ]
  },
  {
   "cell_type": "code",
   "execution_count": 6,
   "metadata": {
    "collapsed": false,
    "scrolled": true
   },
   "outputs": [
    {
     "data": {
      "text/html": [
       "<div style=\"width:100%;\"><div style=\"position:relative;width:100%;height:0;padding-bottom:60%;\"><iframe src=\"data:text/html;base64,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\" style=\"position:absolute;width:100%;height:100%;left:0;top:0;\"></iframe></div></div>"
      ],
      "text/plain": [
       "<folium.folium.Map at 0x109301810>"
      ]
     },
     "execution_count": 6,
     "metadata": {},
     "output_type": "execute_result"
    }
   ],
   "source": [
    "import folium\n",
    "zion_park_coordinates = zion_park['GEOJSON']['COORDINATES'][::-1]\n",
    "map_osm = folium.Map(location=zion_park_coordinates, \n",
    "                     zoom_start=5, tiles='Stamen Terrain')\n",
    "folium.RegularPolygonMarker(zion_park_coordinates).add_to(map_osm)\n",
    "map_osm"
   ]
  },
  {
   "cell_type": "markdown",
   "metadata": {},
   "source": [
    "Who in the world picked that marker color?\n",
    "\n",
    "Ok, what else do I know about this park?"
   ]
  },
  {
   "cell_type": "code",
   "execution_count": 7,
   "metadata": {
    "collapsed": false
   },
   "outputs": [
    {
     "data": {
      "text/plain": [
       "[u'OrgRecAreaID',\n",
       " u'LastUpdatedDate',\n",
       " u'RecAreaDirections',\n",
       " u'StayLimit',\n",
       " u'RecAreaFeeDescription',\n",
       " u'RecAreaName',\n",
       " u'GEOJSON',\n",
       " u'RecAreaEmail',\n",
       " u'RecAreaReservationURL',\n",
       " u'RecAreaLongitude',\n",
       " u'RecAreaLatitude',\n",
       " u'RecAreaDescription',\n",
       " u'Keywords',\n",
       " u'RecAreaMapURL',\n",
       " u'RecAreaID',\n",
       " u'RecAreaPhone']"
      ]
     },
     "execution_count": 7,
     "metadata": {},
     "output_type": "execute_result"
    }
   ],
   "source": [
    "zion_park.keys()"
   ]
  },
  {
   "cell_type": "markdown",
   "metadata": {},
   "source": [
    "Let's check out the facilities of this park."
   ]
  },
  {
   "cell_type": "code",
   "execution_count": 8,
   "metadata": {
    "collapsed": false
   },
   "outputs": [
    {
     "data": {
      "text/plain": [
       "[u'WATCHMAN CAMPGROUND', u'South Campground']"
      ]
     },
     "execution_count": 8,
     "metadata": {},
     "output_type": "execute_result"
    }
   ],
   "source": [
    "url = BASE_URL + '/recareas/%s/facilities/' % zion_park['RecAreaID']\n",
    "zion_facilities = get_as_json(url)\n",
    "[fac[u'FacilityName'] for fac in zion_facilities]"
   ]
  },
  {
   "cell_type": "markdown",
   "metadata": {},
   "source": [
    "Both of them seem to be campgrounds, I will display them on the map."
   ]
  },
  {
   "cell_type": "code",
   "execution_count": 9,
   "metadata": {
    "collapsed": false,
    "scrolled": true
   },
   "outputs": [
    {
     "data": {
      "text/html": [
       "<div style=\"width:100%;\"><div style=\"position:relative;width:100%;height:0;padding-bottom:60%;\"><iframe src=\"data:text/html;base64,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\" style=\"position:absolute;width:100%;height:100%;left:0;top:0;\"></iframe></div></div>"
      ],
      "text/plain": [
       "<folium.folium.Map at 0x109364f50>"
      ]
     },
     "execution_count": 9,
     "metadata": {},
     "output_type": "execute_result"
    }
   ],
   "source": [
    "map_osm = folium.Map(location=zion_park_coordinates, \n",
    "                     zoom_start=13, tiles='Stamen Terrain')\n",
    "folium.RegularPolygonMarker(zion_park_coordinates).add_to(map_osm)\n",
    "for fac in zion_facilities:\n",
    "    coordinates = fac['GEOJSON']['COORDINATES'][::-1]\n",
    "    folium.RegularPolygonMarker(\n",
    "        coordinates,\n",
    "        popup=fac[u'FacilityDescription'],\n",
    "        fill_color='#aa9d96',\n",
    "        number_of_sides=8,\n",
    "        radius=10\n",
    "        ).add_to(map_osm)\n",
    "map_osm.zoom_start\n",
    "map_osm"
   ]
  },
  {
   "cell_type": "markdown",
   "metadata": {},
   "source": [
    "Click on the campgrounds for their descriptions.\n",
    "\n",
    "What will the media endpoint for the zion area give us?"
   ]
  },
  {
   "cell_type": "code",
   "execution_count": 10,
   "metadata": {
    "collapsed": false
   },
   "outputs": [],
   "source": [
    "url = BASE_URL + 'recareas/%s/media/' % zion_park['RecAreaID']\n",
    "media = get_as_json(url)"
   ]
  },
  {
   "cell_type": "code",
   "execution_count": 11,
   "metadata": {
    "collapsed": false
   },
   "outputs": [
    {
     "data": {
      "text/html": [
       "\n",
       "<div style='display: inline-block;'>\n",
       "    <img style='width: 200px;' src='http://ridb.recreation.gov/images/63031.jpg' />\n",
       "    <span>Zion Canyon Visitor Center</span>\n",
       "</div>\n",
       "\n",
       "<div style='display: inline-block;'>\n",
       "    <img style='width: 200px;' src='http://ridb.recreation.gov/images/63032.jpg' />\n",
       "    <span>The Temples and Towers of the Virgin</span>\n",
       "</div>\n",
       "\n",
       "<div style='display: inline-block;'>\n",
       "    <img style='width: 200px;' src='http://ridb.recreation.gov/images/63033.jpg' />\n",
       "    <span>Zion Narrows</span>\n",
       "</div>\n",
       "\n",
       "<div style='display: inline-block;'>\n",
       "    <img style='width: 200px;' src='http://ridb.recreation.gov/images/63034.jpg' />\n",
       "    <span>Kolob Arch</span>\n",
       "</div>\n",
       "\n",
       "<div style='display: inline-block;'>\n",
       "    <img style='width: 200px;' src='http://ridb.recreation.gov/images/63035.jpg' />\n",
       "    <span>The Subway (Left Fork of North Creek)</span>\n",
       "</div>\n",
       "\n",
       "<div style='display: inline-block;'>\n",
       "    <img style='width: 200px;' src='http://ridb.recreation.gov/images/63036.jpg' />\n",
       "    <span>Mountain of the Sun</span>\n",
       "</div>\n",
       "\n",
       "<div style='display: inline-block;'>\n",
       "    <img style='width: 200px;' src='http://ridb.recreation.gov/images/63037.jpg' />\n",
       "    <span>South Campground</span>\n",
       "</div>\n"
      ],
      "text/plain": [
       "<IPython.core.display.HTML object>"
      ]
     },
     "metadata": {},
     "output_type": "display_data"
    }
   ],
   "source": [
    "image_tag = \"\"\"\n",
    "<div style='display: inline-block;'>\n",
    "    <img style='width: 200px;' src='{URL}' />\n",
    "    <span>{Title}</span>\n",
    "</div>\n",
    "\"\"\"\n",
    "\n",
    "imagesList=''.join([image_tag.format(**m) for m in media])\n",
    "display(HTML(imagesList))"
   ]
  },
  {
   "cell_type": "markdown",
   "metadata": {},
   "source": [
    "This *South Campground* looks cool! What will the `campsites` endpoint tell me about it?"
   ]
  },
  {
   "cell_type": "code",
   "execution_count": 12,
   "metadata": {
    "collapsed": false
   },
   "outputs": [
    {
     "name": "stdout",
     "output_type": "stream",
     "text": [
      "[]\n"
     ]
    }
   ],
   "source": [
    "south_campground_fac = zion_facilities[1]\n",
    "url = BASE_URL + 'facilities/%s/campsites' % south_campground_fac['FacilityID']\n",
    "campsites = get_as_json(url)\n",
    "pprint(campsites)"
   ]
  },
  {
   "cell_type": "markdown",
   "metadata": {},
   "source": [
    "Oh, that sucks. I liked that one. Ok ok, will check out the other one."
   ]
  },
  {
   "cell_type": "code",
   "execution_count": 13,
   "metadata": {
    "collapsed": false
   },
   "outputs": [
    {
     "name": "stdout",
     "output_type": "stream",
     "text": [
      "There are 50 campsites for the WATCHMAN CAMPGROUND campground \n",
      "\n",
      "Information for campsite 1:\n",
      "{u'ATTRIBUTES': [{u'AttributeID': 93109960,\n",
      "                  u'AttributeName': u'Checkin Time',\n",
      "                  u'AttributeValue': u'12:00 PM'},\n",
      "                 {u'AttributeID': 93109961,\n",
      "                  u'AttributeName': u'Checkout Time',\n",
      "                  u'AttributeValue': u'11:00 AM'},\n",
      "                 {u'AttributeID': 93109962,\n",
      "                  u'AttributeName': u'Fire Pit',\n",
      "                  u'AttributeValue': u'Y'},\n",
      "                 {u'AttributeID': 93109963,\n",
      "                  u'AttributeName': u'Max Num of People',\n",
      "                  u'AttributeValue': 25.0},\n",
      "                 {u'AttributeID': 93109964,\n",
      "                  u'AttributeName': u'Max Num of Vehicles',\n",
      "                  u'AttributeValue': 6.0},\n",
      "                 {u'AttributeID': 93109965,\n",
      "                  u'AttributeName': u'Min Num of People',\n",
      "                  u'AttributeValue': 15.0},\n",
      "                 {u'AttributeID': 93109966,\n",
      "                  u'AttributeName': u'Min Num of Vehicles',\n",
      "                  u'AttributeValue': 0.0},\n",
      "                 {u'AttributeID': 93109967,\n",
      "                  u'AttributeName': u'Picnic Table',\n",
      "                  u'AttributeValue': u'Y'},\n",
      "                 {u'AttributeID': 93109968,\n",
      "                  u'AttributeName': u'Site Access',\n",
      "                  u'AttributeValue': u'Drive-In'},\n",
      "                 {u'AttributeID': 93109969,\n",
      "                  u'AttributeName': u'Site Reserve Type',\n",
      "                  u'AttributeValue': u'Site-Specific'},\n",
      "                 {u'AttributeID': 93109970,\n",
      "                  u'AttributeName': u'Campfire Allowed',\n",
      "                  u'AttributeValue': u'Y'}],\n",
      " u'CampsiteAccessible': False,\n",
      " u'CampsiteID': 332,\n",
      " u'CampsiteName': u'Group Site E002',\n",
      " u'CampsiteType': u'GROUP TENT ONLY AREA NONELECTRIC',\n",
      " u'CreatedDate': u'2014-05-02',\n",
      " u'ENTITYMEDIA': [],\n",
      " u'FacilityID': 232445,\n",
      " u'LastUpdatedDate': u'2016-03-03',\n",
      " u'Loop': u'Zion Group Sites',\n",
      " u'PERMITTEDEQUIPMENT': [{u'EquipmentName': u'Tent', u'MaxLength': 0}],\n",
      " u'TypeOfUse': u'Overnight'}\n"
     ]
    }
   ],
   "source": [
    "other_campground_fac = zion_facilities[0]\n",
    "url = BASE_URL + 'facilities/%s/campsites' % other_campground_fac['FacilityID']\n",
    "campsites = get_as_json(url)\n",
    "print('There are %d campsites for the %s campground \\n' % (len(campsites), other_campground_fac['FacilityName']))\n",
    "print('Information for campsite 1:')\n",
    "pprint(campsites[0])"
   ]
  },
  {
   "cell_type": "markdown",
   "metadata": {},
   "source": [
    "Ah wow, that's really one individual Site on a Campground. Pretty cool.\n",
    "\n",
    "So, are there any events going on while I'm there?"
   ]
  },
  {
   "cell_type": "code",
   "execution_count": 14,
   "metadata": {
    "collapsed": false
   },
   "outputs": [
    {
     "data": {
      "text/plain": [
       "[]"
      ]
     },
     "execution_count": 14,
     "metadata": {},
     "output_type": "execute_result"
    }
   ],
   "source": [
    "url = BASE_URL + 'recareas/%s/events/' % zion_park['RecAreaID']\n",
    "events = get_as_json(url)\n",
    "events"
   ]
  },
  {
   "cell_type": "markdown",
   "metadata": {},
   "source": [
    "Booooooooooring!"
   ]
  },
  {
   "cell_type": "code",
   "execution_count": 15,
   "metadata": {
    "collapsed": false
   },
   "outputs": [
    {
     "data": {
      "text/plain": [
       "[u'AUTO TOURING',\n",
       " u'BIKING',\n",
       " u'CLIMBING',\n",
       " u'CAMPING',\n",
       " u'FISHING',\n",
       " u'HIKING',\n",
       " u'HORSEBACK RIDING',\n",
       " u'WILDLIFE VIEWING',\n",
       " u'PHOTOGRAPHY']"
      ]
     },
     "execution_count": 15,
     "metadata": {},
     "output_type": "execute_result"
    }
   ],
   "source": [
    "url = BASE_URL + 'recareas/%s/activities/' % zion_park['RecAreaID']\n",
    "activities = get_as_json(url)\n",
    "[a[u'ActivityName'] for a in  activities]"
   ]
  },
  {
   "cell_type": "markdown",
   "metadata": {
    "collapsed": true
   },
   "source": [
    "Also not bad.\n",
    "\n",
    "#### Then end\n",
    "\n",
    "There are a few more endpoints that could be interesting. Especially `Tours` and `Permit entrances`, but I will stop here for now"
   ]
  }
 ],
 "metadata": {
  "kernelspec": {
   "display_name": "Python 2",
   "language": "python",
   "name": "python2"
  },
  "language_info": {
   "codemirror_mode": {
    "name": "ipython",
    "version": 2
   },
   "file_extension": ".py",
   "mimetype": "text/x-python",
   "name": "python",
   "nbconvert_exporter": "python",
   "pygments_lexer": "ipython2",
   "version": "2.7.9"
  }
 },
 "nbformat": 4,
 "nbformat_minor": 0
}
